{
  "cells": [
    {
      "cell_type": "markdown",
      "metadata": {
        "id": "view-in-github",
        "colab_type": "text"
      },
      "source": [
        "<a href=\"https://colab.research.google.com/github/meghanabmeghanab92-ctrl/New-coding/blob/main/another_copy_of_colaboratory_release_notes.ipynb\" target=\"_parent\"><img src=\"https://colab.research.google.com/assets/colab-badge.svg\" alt=\"Open In Colab\"/></a>"
      ]
    },
    {
      "cell_type": "markdown",
      "source": [
        "**1.Print\"Hello World!\"**"
      ],
      "metadata": {
        "id": "jguWkVBfprGK"
      },
      "id": "jguWkVBfprGK"
    },
    {
      "cell_type": "code",
      "source": [
        "!ls"
      ],
      "metadata": {
        "id": "Yu2nicka8Uo6"
      },
      "id": "Yu2nicka8Uo6",
      "execution_count": null,
      "outputs": []
    },
    {
      "cell_type": "code",
      "source": [
        "%%writefile prog.c\n",
        "#include<stdio.h>\n",
        "\n",
        "int main(void)\n",
        "{\n",
        "  printf(\"Hello World!~~~\");\n",
        "\n",
        "  return 0; //\n",
        "}"
      ],
      "metadata": {
        "id": "4RSS5MI47y5p"
      },
      "id": "4RSS5MI47y5p",
      "execution_count": null,
      "outputs": []
    },
    {
      "cell_type": "code",
      "source": [
        "!gcc --version"
      ],
      "metadata": {
        "id": "TYnE2QtB8xJH"
      },
      "id": "TYnE2QtB8xJH",
      "execution_count": null,
      "outputs": []
    },
    {
      "cell_type": "code",
      "source": [
        "!gcc prog.c"
      ],
      "metadata": {
        "id": "FvJioZkmBUNX"
      },
      "id": "FvJioZkmBUNX",
      "execution_count": null,
      "outputs": []
    },
    {
      "cell_type": "code",
      "source": [
        "!./a.out"
      ],
      "metadata": {
        "id": "JB3q4WjUEXQO"
      },
      "id": "JB3q4WjUEXQO",
      "execution_count": null,
      "outputs": []
    },
    {
      "cell_type": "markdown",
      "source": [
        "**2**.**Swap** **Two** **Numbers**(**using** **temp** **variable**)"
      ],
      "metadata": {
        "id": "gqAE-qW1ot_1"
      },
      "id": "gqAE-qW1ot_1"
    },
    {
      "cell_type": "code",
      "source": [
        "%%writefile prog.c\n",
        "#include<stdio.h>\n",
        "int main(void)\n",
        "{\n",
        "  int a=5,b=10,temp;\n",
        "  temp=a;\n",
        "  a=b;\n",
        "  b=temp;\n",
        "  printf(\"a=%d,b=%d\\n\",a,b);\n",
        "  return 0;\n",
        "}"
      ],
      "metadata": {
        "id": "otU5dP14qwyT"
      },
      "id": "otU5dP14qwyT",
      "execution_count": null,
      "outputs": []
    },
    {
      "cell_type": "code",
      "source": [
        "!ls"
      ],
      "metadata": {
        "id": "bWonVAc1shCe"
      },
      "id": "bWonVAc1shCe",
      "execution_count": null,
      "outputs": []
    },
    {
      "cell_type": "code",
      "source": [
        "!gcc --version"
      ],
      "metadata": {
        "id": "L9wZSlWsw3jN"
      },
      "id": "L9wZSlWsw3jN",
      "execution_count": null,
      "outputs": []
    },
    {
      "cell_type": "code",
      "source": [
        "!gcc prog.c"
      ],
      "metadata": {
        "id": "lwKR1Evrxh4M"
      },
      "id": "lwKR1Evrxh4M",
      "execution_count": null,
      "outputs": []
    },
    {
      "cell_type": "code",
      "source": [
        "!./a.out"
      ],
      "metadata": {
        "id": "48BqpgoQyTOb"
      },
      "id": "48BqpgoQyTOb",
      "execution_count": null,
      "outputs": []
    },
    {
      "cell_type": "markdown",
      "source": [
        " **3.Check if a number is even or odd** **bold text**"
      ],
      "metadata": {
        "id": "p5JwyqXnzSr6"
      },
      "id": "p5JwyqXnzSr6"
    },
    {
      "cell_type": "code",
      "source": [
        "%%writefile prog.c\n",
        "#include<stdio.h>\n",
        "int main( void)\n",
        "{\n",
        "  int num;\n",
        "  printf(\"enter a number:\");\n",
        "  scanf(\"%d\",&num);\n",
        "  if(num%2==0)\n",
        "  printf(\"even\\n\");\n",
        "  else\n",
        "  printf(\"odd\\n\");\n",
        "  return 0;\n",
        "}"
      ],
      "metadata": {
        "id": "T_S1GAfSztcU"
      },
      "id": "T_S1GAfSztcU",
      "execution_count": null,
      "outputs": []
    },
    {
      "cell_type": "code",
      "source": [
        "!ls"
      ],
      "metadata": {
        "id": "mtTiNecg2Dji"
      },
      "id": "mtTiNecg2Dji",
      "execution_count": null,
      "outputs": []
    },
    {
      "cell_type": "code",
      "source": [
        "!gcc prog.c"
      ],
      "metadata": {
        "id": "N6Ri5UZz2H_z"
      },
      "id": "N6Ri5UZz2H_z",
      "execution_count": null,
      "outputs": []
    },
    {
      "cell_type": "code",
      "source": [
        "!./a.out"
      ],
      "metadata": {
        "id": "Zv16AADo2Rr8",
        "outputId": "0c87d2f8-2d74-44d4-b37e-ee649f7d7ee1",
        "colab": {
          "base_uri": "https://localhost:8080/"
        }
      },
      "id": "Zv16AADo2Rr8",
      "execution_count": null,
      "outputs": [
        {
          "metadata": {
            "tags": null
          },
          "name": "stdout",
          "output_type": "stream",
          "text": [
            "enter a number:"
          ]
        }
      ]
    },
    {
      "cell_type": "markdown",
      "source": [
        "**4.Find Maximum of Three Numbers**"
      ],
      "metadata": {
        "id": "qbnhLRR12ywd"
      },
      "id": "qbnhLRR12ywd"
    },
    {
      "cell_type": "code",
      "source": [
        "%%writefile prog.c\n",
        "#include<stdio.h>\n",
        "int main(void)\n",
        "{\n",
        "  int a,b,c;\n",
        "  printf(\"enter three numbers:\");\n",
        "  scanf(\"%d%d%d\",&a,&b,&c);\n",
        "  if(a>=b&&a>=c)\n",
        "  printf(\"max=%d\\n\",a);\n",
        "  elseif(b>=a&&b>=c)\n",
        "  printf(\"max=%d\\n\",b);\n",
        "  else\n",
        "  printf(\"max=%d\\n\",c);\n",
        "  return 0;\n",
        "}"
      ],
      "metadata": {
        "id": "JRHsGY6R3Eqh"
      },
      "id": "JRHsGY6R3Eqh",
      "execution_count": null,
      "outputs": []
    },
    {
      "cell_type": "code",
      "source": [
        "!ls"
      ],
      "metadata": {
        "id": "XxyUjnvF5lk1"
      },
      "id": "XxyUjnvF5lk1",
      "execution_count": null,
      "outputs": []
    },
    {
      "cell_type": "code",
      "source": [
        "!gcc prog.c"
      ],
      "metadata": {
        "id": "Ynp3vICb5ys8"
      },
      "id": "Ynp3vICb5ys8",
      "execution_count": null,
      "outputs": []
    },
    {
      "cell_type": "code",
      "source": [
        "!./a.out\n"
      ],
      "metadata": {
        "id": "oWQOOx3W7AY2"
      },
      "id": "oWQOOx3W7AY2",
      "execution_count": null,
      "outputs": []
    },
    {
      "cell_type": "markdown",
      "source": [
        "**5.Check if Number is Positive,Negative,or Zero**"
      ],
      "metadata": {
        "id": "a3njIVbp8AFA"
      },
      "id": "a3njIVbp8AFA"
    },
    {
      "cell_type": "code",
      "source": [
        "%%writefile prog.c\n",
        "#include<stdio.h>\n",
        "int main(void)\n",
        "{\n",
        "  int n;\n",
        "  printf(\"enter a number:\");\n",
        "  scanf(\"%d\",&n);\n",
        "  if(n>0)\n",
        "  printf(\"Positive\\n\");\n",
        "  else if(n<0)\n",
        "  printf(\"negative\\n\");\n",
        "  else\n",
        "  printf(\"zero\\n\");\n",
        "  return 0;\n",
        "}"
      ],
      "metadata": {
        "id": "bUY4So298OKX"
      },
      "id": "bUY4So298OKX",
      "execution_count": null,
      "outputs": []
    },
    {
      "cell_type": "code",
      "source": [
        "!ls"
      ],
      "metadata": {
        "id": "t5_nsPk69vmR"
      },
      "id": "t5_nsPk69vmR",
      "execution_count": null,
      "outputs": []
    }
  ],
  "metadata": {
    "colab": {
      "provenance": [],
      "include_colab_link": true
    },
    "language_info": {
      "name": "python"
    },
    "kernelspec": {
      "name": "python3",
      "display_name": "Python 3"
    }
  },
  "nbformat": 4,
  "nbformat_minor": 5
}