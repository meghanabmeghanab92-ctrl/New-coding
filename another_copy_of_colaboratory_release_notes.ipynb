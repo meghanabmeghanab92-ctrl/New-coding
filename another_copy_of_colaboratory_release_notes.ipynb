{
  "cells": [
    {
      "cell_type": "markdown",
      "metadata": {
        "id": "view-in-github",
        "colab_type": "text"
      },
      "source": [
        "<a href=\"https://colab.research.google.com/github/meghanabmeghanab92-ctrl/New-coding/blob/main/another_copy_of_colaboratory_release_notes.ipynb\" target=\"_parent\"><img src=\"https://colab.research.google.com/assets/colab-badge.svg\" alt=\"Open In Colab\"/></a>"
      ]
    },
    {
      "cell_type": "markdown",
      "source": [
        "**1.Print\"Hello World!\"**"
      ],
      "metadata": {
        "id": "jguWkVBfprGK"
      },
      "id": "jguWkVBfprGK"
    },
    {
      "cell_type": "code",
      "source": [
        "!ls"
      ],
      "metadata": {
        "id": "Yu2nicka8Uo6",
        "outputId": "fc3668cf-99f2-4fa2-c4cb-7ecbf6b13f13",
        "colab": {
          "base_uri": "https://localhost:8080/"
        }
      },
      "id": "Yu2nicka8Uo6",
      "execution_count": null,
      "outputs": [
        {
          "output_type": "stream",
          "name": "stdout",
          "text": [
            "prog.c\tsample_data\n"
          ]
        }
      ]
    },
    {
      "cell_type": "code",
      "source": [
        "%%writefile prog.c\n",
        "#include<stdio.h>\n",
        "\n",
        "int main(void)\n",
        "{\n",
        "  printf(\"Hello World!~~~\");\n",
        "\n",
        "  return 0; //\n",
        "}"
      ],
      "metadata": {
        "id": "4RSS5MI47y5p",
        "colab": {
          "base_uri": "https://localhost:8080/"
        },
        "outputId": "035ddcfb-7d53-4e0a-9171-c313a10001e9"
      },
      "id": "4RSS5MI47y5p",
      "execution_count": null,
      "outputs": [
        {
          "output_type": "stream",
          "name": "stdout",
          "text": [
            "Writing prog.c\n"
          ]
        }
      ]
    },
    {
      "cell_type": "code",
      "source": [
        "!gcc --version"
      ],
      "metadata": {
        "id": "TYnE2QtB8xJH",
        "outputId": "35d2f3d6-8e8f-4696-d3a0-ce0af0f6992f",
        "colab": {
          "base_uri": "https://localhost:8080/"
        }
      },
      "id": "TYnE2QtB8xJH",
      "execution_count": null,
      "outputs": [
        {
          "output_type": "stream",
          "name": "stdout",
          "text": [
            "gcc (Ubuntu 11.4.0-1ubuntu1~22.04.2) 11.4.0\n",
            "Copyright (C) 2021 Free Software Foundation, Inc.\n",
            "This is free software; see the source for copying conditions.  There is NO\n",
            "warranty; not even for MERCHANTABILITY or FITNESS FOR A PARTICULAR PURPOSE.\n",
            "\n"
          ]
        }
      ]
    },
    {
      "cell_type": "code",
      "source": [
        "!gcc prog.c"
      ],
      "metadata": {
        "id": "FvJioZkmBUNX"
      },
      "id": "FvJioZkmBUNX",
      "execution_count": null,
      "outputs": []
    },
    {
      "cell_type": "code",
      "source": [
        "!./a.out"
      ],
      "metadata": {
        "colab": {
          "base_uri": "https://localhost:8080/"
        },
        "id": "JB3q4WjUEXQO",
        "outputId": "fe7d7cef-b27d-4917-b897-e55141a39951"
      },
      "id": "JB3q4WjUEXQO",
      "execution_count": null,
      "outputs": [
        {
          "output_type": "stream",
          "name": "stdout",
          "text": [
            "Hello World!"
          ]
        }
      ]
    },
    {
      "cell_type": "markdown",
      "source": [
        "**2**.**Swap** **Two** **Numbers**(**using** **temp** **variable**)"
      ],
      "metadata": {
        "id": "gqAE-qW1ot_1"
      },
      "id": "gqAE-qW1ot_1"
    },
    {
      "cell_type": "code",
      "source": [
        "%%writefile prog.c\n",
        "#include<stdio.h>\n",
        "int main(void)\n",
        "{\n",
        "  int a=5,b=10,temp;\n",
        "  temp=a;\n",
        "  a=b;\n",
        "  b=temp;\n",
        "  printf(\"a=%d,b=%d\\n\",a,b);\n",
        "  return 0;\n",
        "}"
      ],
      "metadata": {
        "id": "otU5dP14qwyT"
      },
      "id": "otU5dP14qwyT",
      "execution_count": null,
      "outputs": []
    },
    {
      "cell_type": "code",
      "source": [
        "!Is"
      ],
      "metadata": {
        "id": "j5S9jCXZrYzA",
        "outputId": "008f377f-8223-4ab7-85cf-c3ea2237a272",
        "colab": {
          "base_uri": "https://localhost:8080/"
        }
      },
      "id": "j5S9jCXZrYzA",
      "execution_count": 3,
      "outputs": [
        {
          "output_type": "stream",
          "name": "stdout",
          "text": [
            "/bin/bash: line 1: Is: command not found\n"
          ]
        }
      ]
    },
    {
      "cell_type": "code",
      "source": [],
      "metadata": {
        "id": "bWonVAc1shCe"
      },
      "id": "bWonVAc1shCe",
      "execution_count": null,
      "outputs": []
    }
  ],
  "metadata": {
    "colab": {
      "provenance": [],
      "include_colab_link": true
    },
    "language_info": {
      "name": "python"
    },
    "kernelspec": {
      "name": "python3",
      "display_name": "Python 3"
    }
  },
  "nbformat": 4,
  "nbformat_minor": 5
}