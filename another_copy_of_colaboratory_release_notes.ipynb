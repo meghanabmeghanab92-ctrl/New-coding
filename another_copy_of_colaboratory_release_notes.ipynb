{
  "cells": [
    {
      "cell_type": "markdown",
      "metadata": {
        "id": "view-in-github",
        "colab_type": "text"
      },
      "source": [
        "<a href=\"https://colab.research.google.com/github/meghanabmeghanab92-ctrl/New-coding/blob/main/another_copy_of_colaboratory_release_notes.ipynb\" target=\"_parent\"><img src=\"https://colab.research.google.com/assets/colab-badge.svg\" alt=\"Open In Colab\"/></a>"
      ]
    },
    {
      "cell_type": "markdown",
      "source": [
        "**1.Print\"Hello World!\"**"
      ],
      "metadata": {
        "id": "jguWkVBfprGK"
      },
      "id": "jguWkVBfprGK"
    },
    {
      "cell_type": "code",
      "source": [
        "!ls"
      ],
      "metadata": {
        "id": "Yu2nicka8Uo6",
        "outputId": "a770ca83-a0c5-4a53-e910-422ef22d7a7a",
        "colab": {
          "base_uri": "https://localhost:8080/"
        }
      },
      "id": "Yu2nicka8Uo6",
      "execution_count": 69,
      "outputs": [
        {
          "output_type": "stream",
          "name": "stdout",
          "text": [
            "a.out  prog.c  sample_data\n"
          ]
        }
      ]
    },
    {
      "cell_type": "code",
      "source": [
        "%%writefile prog.c\n",
        "#include<stdio.h>\n",
        "\n",
        "int main(void)\n",
        "{\n",
        "  printf(\"Hello World!~~~\");\n",
        "\n",
        "  return 0; //\n",
        "}"
      ],
      "metadata": {
        "id": "4RSS5MI47y5p",
        "colab": {
          "base_uri": "https://localhost:8080/"
        },
        "outputId": "a6d915b6-b53e-4789-c2bb-2eaf2094fe50"
      },
      "id": "4RSS5MI47y5p",
      "execution_count": 70,
      "outputs": [
        {
          "output_type": "stream",
          "name": "stdout",
          "text": [
            "Overwriting prog.c\n"
          ]
        }
      ]
    },
    {
      "cell_type": "code",
      "source": [
        "!gcc --version"
      ],
      "metadata": {
        "id": "TYnE2QtB8xJH",
        "outputId": "95a7b0d0-9541-4924-f5f5-4994aadfa0d7",
        "colab": {
          "base_uri": "https://localhost:8080/"
        }
      },
      "id": "TYnE2QtB8xJH",
      "execution_count": 71,
      "outputs": [
        {
          "output_type": "stream",
          "name": "stdout",
          "text": [
            "gcc (Ubuntu 11.4.0-1ubuntu1~22.04.2) 11.4.0\n",
            "Copyright (C) 2021 Free Software Foundation, Inc.\n",
            "This is free software; see the source for copying conditions.  There is NO\n",
            "warranty; not even for MERCHANTABILITY or FITNESS FOR A PARTICULAR PURPOSE.\n",
            "\n"
          ]
        }
      ]
    },
    {
      "cell_type": "code",
      "source": [
        "!gcc prog.c"
      ],
      "metadata": {
        "id": "FvJioZkmBUNX"
      },
      "id": "FvJioZkmBUNX",
      "execution_count": 72,
      "outputs": []
    },
    {
      "cell_type": "code",
      "source": [
        "!./a.out"
      ],
      "metadata": {
        "colab": {
          "base_uri": "https://localhost:8080/"
        },
        "id": "JB3q4WjUEXQO",
        "outputId": "9b778f40-8d9e-4534-8518-3945a2638121"
      },
      "id": "JB3q4WjUEXQO",
      "execution_count": 73,
      "outputs": [
        {
          "output_type": "stream",
          "name": "stdout",
          "text": [
            "Hello World!~~~"
          ]
        }
      ]
    },
    {
      "cell_type": "markdown",
      "source": [
        "**2**.**Swap** **Two** **Numbers**(**using** **temp** **variable**)"
      ],
      "metadata": {
        "id": "gqAE-qW1ot_1"
      },
      "id": "gqAE-qW1ot_1"
    },
    {
      "cell_type": "code",
      "source": [
        "%%writefile prog.c\n",
        "#include<stdio.h>\n",
        "int main(void)\n",
        "{\n",
        "  int a=5,b=10,temp;\n",
        "  temp=a;\n",
        "  a=b;\n",
        "  b=temp;\n",
        "  printf(\"a=%d,b=%d\\n\",a,b);\n",
        "  return 0;\n",
        "}"
      ],
      "metadata": {
        "id": "otU5dP14qwyT",
        "outputId": "85e3406d-aeed-4df2-ce1c-d5fd29ad6196",
        "colab": {
          "base_uri": "https://localhost:8080/"
        }
      },
      "id": "otU5dP14qwyT",
      "execution_count": 74,
      "outputs": [
        {
          "output_type": "stream",
          "name": "stdout",
          "text": [
            "Overwriting prog.c\n"
          ]
        }
      ]
    },
    {
      "cell_type": "code",
      "source": [
        "!ls"
      ],
      "metadata": {
        "id": "bWonVAc1shCe",
        "outputId": "4f9764d1-bcc0-4fe4-cad2-6c3b443c0fe2",
        "colab": {
          "base_uri": "https://localhost:8080/"
        }
      },
      "id": "bWonVAc1shCe",
      "execution_count": 75,
      "outputs": [
        {
          "output_type": "stream",
          "name": "stdout",
          "text": [
            "a.out  prog.c  sample_data\n"
          ]
        }
      ]
    },
    {
      "cell_type": "code",
      "source": [
        "!gcc --version"
      ],
      "metadata": {
        "id": "L9wZSlWsw3jN",
        "outputId": "99fb4d4b-7350-4440-cc52-6005afd5eeeb",
        "colab": {
          "base_uri": "https://localhost:8080/"
        }
      },
      "id": "L9wZSlWsw3jN",
      "execution_count": 76,
      "outputs": [
        {
          "output_type": "stream",
          "name": "stdout",
          "text": [
            "gcc (Ubuntu 11.4.0-1ubuntu1~22.04.2) 11.4.0\n",
            "Copyright (C) 2021 Free Software Foundation, Inc.\n",
            "This is free software; see the source for copying conditions.  There is NO\n",
            "warranty; not even for MERCHANTABILITY or FITNESS FOR A PARTICULAR PURPOSE.\n",
            "\n"
          ]
        }
      ]
    },
    {
      "cell_type": "code",
      "source": [
        "!gcc prog.c"
      ],
      "metadata": {
        "id": "lwKR1Evrxh4M"
      },
      "id": "lwKR1Evrxh4M",
      "execution_count": 77,
      "outputs": []
    },
    {
      "cell_type": "code",
      "source": [
        "!./a.out"
      ],
      "metadata": {
        "id": "48BqpgoQyTOb",
        "outputId": "1b4958b6-6413-4467-9c16-1363909c7c74",
        "colab": {
          "base_uri": "https://localhost:8080/"
        }
      },
      "id": "48BqpgoQyTOb",
      "execution_count": 78,
      "outputs": [
        {
          "output_type": "stream",
          "name": "stdout",
          "text": [
            "a=10,b=5\n"
          ]
        }
      ]
    },
    {
      "cell_type": "markdown",
      "source": [
        " **3.Check if a number is even or odd** **bold text**"
      ],
      "metadata": {
        "id": "p5JwyqXnzSr6"
      },
      "id": "p5JwyqXnzSr6"
    },
    {
      "cell_type": "code",
      "source": [
        "%%writefile prog.c\n",
        "#include<stdio.h>\n",
        "int main( void)\n",
        "{\n",
        "  int num;\n",
        "  printf(\"enter a number:\");\n",
        "  scanf(\"%d\",&num);\n",
        "  if(num%2==0)\n",
        "  printf(\"even\\n\");\n",
        "  else\n",
        "  printf(\"odd\\n\");\n",
        "  return 0;\n",
        "}"
      ],
      "metadata": {
        "id": "T_S1GAfSztcU",
        "outputId": "991ee098-295e-486c-94f1-606071e827d2",
        "colab": {
          "base_uri": "https://localhost:8080/"
        }
      },
      "id": "T_S1GAfSztcU",
      "execution_count": 79,
      "outputs": [
        {
          "output_type": "stream",
          "name": "stdout",
          "text": [
            "Overwriting prog.c\n"
          ]
        }
      ]
    },
    {
      "cell_type": "code",
      "source": [
        "!ls"
      ],
      "metadata": {
        "id": "mtTiNecg2Dji",
        "outputId": "09434d94-7a5c-433e-c096-e09e758271c5",
        "colab": {
          "base_uri": "https://localhost:8080/"
        }
      },
      "id": "mtTiNecg2Dji",
      "execution_count": 80,
      "outputs": [
        {
          "output_type": "stream",
          "name": "stdout",
          "text": [
            "a.out  prog.c  sample_data\n"
          ]
        }
      ]
    },
    {
      "cell_type": "code",
      "source": [
        "!gcc prog.c"
      ],
      "metadata": {
        "id": "N6Ri5UZz2H_z"
      },
      "id": "N6Ri5UZz2H_z",
      "execution_count": 81,
      "outputs": []
    },
    {
      "cell_type": "code",
      "source": [
        "!./a.out"
      ],
      "metadata": {
        "id": "Zv16AADo2Rr8",
        "outputId": "5a61ae55-ecaf-426f-b58a-f7b8add55814",
        "colab": {
          "base_uri": "https://localhost:8080/"
        }
      },
      "id": "Zv16AADo2Rr8",
      "execution_count": null,
      "outputs": [
        {
          "output_type": "stream",
          "name": "stdout",
          "text": [
            "enter a number:"
          ]
        }
      ]
    },
    {
      "cell_type": "markdown",
      "source": [
        "**4.Find Maximum of Three Numbers**"
      ],
      "metadata": {
        "id": "qbnhLRR12ywd"
      },
      "id": "qbnhLRR12ywd"
    },
    {
      "cell_type": "code",
      "source": [
        "%%writefile prog.c\n",
        "#include<stdio.h>\n",
        "int main(void)\n",
        "{\n",
        "  int a,b,c;\n",
        "  printf(\"enter three numbers:\");\n",
        "  scanf(\"%d%d%d\",&a,&b,&c);\n",
        "  if(a>=b&&a>=c)\n",
        "  printf(\"max=%d\\n\",a);\n",
        "  elseif(b>=a&&b>=c)\n",
        "  printf(\"max=%d\\n\",b);\n",
        "  else\n",
        "  printf(\"max=%d\\n\",c);\n",
        "  return 0;\n",
        "}"
      ],
      "metadata": {
        "id": "JRHsGY6R3Eqh"
      },
      "id": "JRHsGY6R3Eqh",
      "execution_count": null,
      "outputs": []
    },
    {
      "cell_type": "code",
      "source": [
        "!ls"
      ],
      "metadata": {
        "id": "XxyUjnvF5lk1"
      },
      "id": "XxyUjnvF5lk1",
      "execution_count": null,
      "outputs": []
    },
    {
      "cell_type": "code",
      "source": [
        "!gcc prog.c"
      ],
      "metadata": {
        "id": "Ynp3vICb5ys8"
      },
      "id": "Ynp3vICb5ys8",
      "execution_count": null,
      "outputs": []
    },
    {
      "cell_type": "code",
      "source": [
        "!./a.out\n"
      ],
      "metadata": {
        "id": "oWQOOx3W7AY2"
      },
      "id": "oWQOOx3W7AY2",
      "execution_count": null,
      "outputs": []
    }
  ],
  "metadata": {
    "colab": {
      "provenance": [],
      "include_colab_link": true
    },
    "language_info": {
      "name": "python"
    },
    "kernelspec": {
      "name": "python3",
      "display_name": "Python 3"
    }
  },
  "nbformat": 4,
  "nbformat_minor": 5
}