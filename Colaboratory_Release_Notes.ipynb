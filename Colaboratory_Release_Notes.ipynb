{
  "cells": [
    {
      "cell_type": "markdown",
      "metadata": {
        "id": "view-in-github",
        "colab_type": "text"
      },
      "source": [
        "<a href=\"https://colab.research.google.com/github/meghanabmeghanab92-ctrl/New-coding/blob/main/Colaboratory_Release_Notes.ipynb\" target=\"_parent\"><img src=\"https://colab.research.google.com/assets/colab-badge.svg\" alt=\"Open In Colab\"/></a>"
      ]
    },
    {
      "cell_type": "code",
      "source": [
        "%%writefile prog.c\n",
        "#include<stdio.h>\n",
        "\n",
        "int main(void)\n",
        "{\n",
        "  print(\"Hello World!\");\n",
        "\n",
        "  return0;\n",
        "}"
      ],
      "metadata": {
        "id": "4RSS5MI47y5p"
      },
      "id": "4RSS5MI47y5p",
      "execution_count": null,
      "outputs": []
    },
    {
      "cell_type": "code",
      "source": [
        "!ls"
      ],
      "metadata": {
        "id": "Yu2nicka8Uo6",
        "outputId": "87de09e7-c739-4ef3-f3c3-e805a5809b88",
        "colab": {
          "base_uri": "https://localhost:8080/"
        }
      },
      "id": "Yu2nicka8Uo6",
      "execution_count": 1,
      "outputs": [
        {
          "output_type": "stream",
          "name": "stdout",
          "text": [
            "sample_data\n"
          ]
        }
      ]
    },
    {
      "cell_type": "code",
      "source": [
        "!gcc --version"
      ],
      "metadata": {
        "id": "TYnE2QtB8xJH",
        "outputId": "b3e28030-0600-4228-e2bb-586cf4ab4347",
        "colab": {
          "base_uri": "https://localhost:8080/"
        }
      },
      "id": "TYnE2QtB8xJH",
      "execution_count": 2,
      "outputs": [
        {
          "output_type": "stream",
          "name": "stdout",
          "text": [
            "gcc (Ubuntu 11.4.0-1ubuntu1~22.04.2) 11.4.0\n",
            "Copyright (C) 2021 Free Software Foundation, Inc.\n",
            "This is free software; see the source for copying conditions.  There is NO\n",
            "warranty; not even for MERCHANTABILITY or FITNESS FOR A PARTICULAR PURPOSE.\n",
            "\n"
          ]
        }
      ]
    },
    {
      "cell_type": "code",
      "source": [
        "!gcc"
      ],
      "metadata": {
        "id": "V9TFaT2Q8_u_",
        "outputId": "fc7e8ac4-6504-41ac-c956-d58e4c33aa33",
        "colab": {
          "base_uri": "https://localhost:8080/"
        }
      },
      "id": "V9TFaT2Q8_u_",
      "execution_count": 5,
      "outputs": [
        {
          "output_type": "stream",
          "name": "stdout",
          "text": [
            "\u001b[01m\u001b[Kgcc:\u001b[m\u001b[K \u001b[01;31m\u001b[Kfatal error: \u001b[m\u001b[Kno input files\n",
            "compilation terminated.\n"
          ]
        }
      ]
    }
  ],
  "metadata": {
    "colab": {
      "name": "Colaboratory Release Notes",
      "provenance": [],
      "include_colab_link": true
    },
    "language_info": {
      "name": "python"
    },
    "kernelspec": {
      "name": "python3",
      "display_name": "Python 3"
    }
  },
  "nbformat": 4,
  "nbformat_minor": 5
}